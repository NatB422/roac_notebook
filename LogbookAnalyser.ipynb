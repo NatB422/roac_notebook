{
 "cells": [
  {
   "cell_type": "markdown",
   "metadata": {},
   "source": [
    "# Welcome to this Notebook for analysing your ROAC Logbook"
   ]
  },
  {
   "cell_type": "markdown",
   "metadata": {},
   "source": [
    "## Preparation for running\n",
    "\n",
    "Download your logbook from the ROAC portal. You will probably want to refresh this download if you last ran the download some time ago.\n",
    "The ROAC portal should give you a download of an Excel file, with several tabs containing all the logs you have added through the portal.\n",
    "\n",
    "## First step: this page will find the logbook \n",
    "\n",
    "This file will read from your local download folder for files beginning \"logbook_export_\", the file naming convention the ROAC portal uses for logbook downloads."
   ]
  },
  {
   "cell_type": "code",
   "execution_count": null,
   "metadata": {},
   "outputs": [],
   "source": [
    "import os\n",
    "from pathlib import Path\n",
    "import pandas\n",
    "\n",
    "downloads_folder = Path(os.path.join(os.path.expanduser(\"~\"), \"Downloads\"))\n",
    "print(f\"Searching for logbook entries in downloads folder: {downloads_folder}\")\n",
    "\n",
    "logbook_entries = [f for f in downloads_folder.iterdir() if f.name.startswith(\"logbook_export_\")]\n",
    "print(\"Found the following entries:\")\n",
    "print(\"* \".join(str(f) for f in logbook_entries))\n"
   ]
  },
  {
   "cell_type": "code",
   "execution_count": null,
   "metadata": {},
   "outputs": [],
   "source": [
    "df_dicts = {} # type: dict[str, pandas.DataFrame]\n",
    "\n",
    "if len(logbook_entries) > 0:\n",
    "    filename = logbook_entries[0]\n",
    "\n",
    "    df_dicts = pandas.read_excel(filename, sheet_name=None)\n",
    "\n",
    "    print(*df_dicts.keys(), sep=\"\\n\")\n"
   ]
  },
  {
   "cell_type": "code",
   "execution_count": null,
   "metadata": {},
   "outputs": [],
   "source": [
    "for sheetname, df in df_dicts.items():\n",
    "    case_type = sheetname.replace(\"LOGBOOK_\", \"\").replace(\"_\", \" \").title()\n",
    "    print(case_type)\n",
    "    print(df)"
   ]
  }
 ],
 "metadata": {
  "kernelspec": {
   "display_name": "Python 3",
   "language": "python",
   "name": "python3"
  },
  "language_info": {
   "codemirror_mode": {
    "name": "ipython",
    "version": 3
   },
   "file_extension": ".py",
   "mimetype": "text/x-python",
   "name": "python",
   "nbconvert_exporter": "python",
   "pygments_lexer": "ipython3",
   "version": "3.8.10"
  }
 },
 "nbformat": 4,
 "nbformat_minor": 2
}
